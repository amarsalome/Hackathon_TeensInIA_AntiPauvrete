{
 "cells": [
  {
   "cell_type": "markdown",
   "metadata": {},
   "source": [
    "# Anti pauvreté"
   ]
  },
  {
   "cell_type": "markdown",
   "metadata": {},
   "source": [
    "## Import packages and load data"
   ]
  },
  {
   "cell_type": "code",
   "execution_count": 119,
   "metadata": {},
   "outputs": [],
   "source": [
    "import pandas as pd\n",
    "import numpy as np\n",
    "import folium\n",
    "import geopy"
   ]
  },
  {
   "cell_type": "code",
   "execution_count": 12,
   "metadata": {},
   "outputs": [],
   "source": [
    "df = pd.read_csv(\"hebergements.csv\", sep = \";\")"
   ]
  },
  {
   "cell_type": "code",
   "execution_count": 13,
   "metadata": {},
   "outputs": [
    {
     "data": {
      "text/html": [
       "<div>\n",
       "<style scoped>\n",
       "    .dataframe tbody tr th:only-of-type {\n",
       "        vertical-align: middle;\n",
       "    }\n",
       "\n",
       "    .dataframe tbody tr th {\n",
       "        vertical-align: top;\n",
       "    }\n",
       "\n",
       "    .dataframe thead th {\n",
       "        text-align: right;\n",
       "    }\n",
       "</style>\n",
       "<table border=\"1\" class=\"dataframe\">\n",
       "  <thead>\n",
       "    <tr style=\"text-align: right;\">\n",
       "      <th></th>\n",
       "      <th>type</th>\n",
       "      <th>nom</th>\n",
       "      <th>adresse</th>\n",
       "      <th>code_postal</th>\n",
       "      <th>ville</th>\n",
       "      <th>telephone</th>\n",
       "      <th>precisions</th>\n",
       "      <th>geo</th>\n",
       "    </tr>\n",
       "  </thead>\n",
       "  <tbody>\n",
       "    <tr>\n",
       "      <td>0</td>\n",
       "      <td>CHU</td>\n",
       "      <td>Les Baudemons</td>\n",
       "      <td>30, rue des Baudemons</td>\n",
       "      <td>94320.0</td>\n",
       "      <td>Thiais</td>\n",
       "      <td>01.55.53.16.10</td>\n",
       "      <td>Hommes et femmes  isolés de plus de 50 ans.</td>\n",
       "      <td>48.769465,2.394079</td>\n",
       "    </tr>\n",
       "    <tr>\n",
       "      <td>1</td>\n",
       "      <td>CHRS</td>\n",
       "      <td>Poterne des Peupliers</td>\n",
       "      <td>8-14, rue de la Poterne des Peupliers</td>\n",
       "      <td>75013.0</td>\n",
       "      <td>Paris</td>\n",
       "      <td>01.45.81.90.00</td>\n",
       "      <td>Hommes et femmes isolés de 25 à 65 ans. Couples.</td>\n",
       "      <td>48.819423,2.353209</td>\n",
       "    </tr>\n",
       "    <tr>\n",
       "      <td>2</td>\n",
       "      <td>CHU</td>\n",
       "      <td>Baudricourt</td>\n",
       "      <td>15, rue Baudricourt</td>\n",
       "      <td>75013.0</td>\n",
       "      <td>Paris</td>\n",
       "      <td>01.45.83.32.60</td>\n",
       "      <td>Hommes et femmes isolés de 25 à 65 ans.</td>\n",
       "      <td>48.828012,2.364797</td>\n",
       "    </tr>\n",
       "    <tr>\n",
       "      <td>3</td>\n",
       "      <td>CHRS</td>\n",
       "      <td>Pauline Roland</td>\n",
       "      <td>35-37, rue Fessart</td>\n",
       "      <td>75019.0</td>\n",
       "      <td>Paris</td>\n",
       "      <td>01.42.03.26.28</td>\n",
       "      <td>Femmes seules ou femmes avec enfants.</td>\n",
       "      <td>48.876763,2.384943</td>\n",
       "    </tr>\n",
       "    <tr>\n",
       "      <td>4</td>\n",
       "      <td>CHRS</td>\n",
       "      <td>Relais des carrières</td>\n",
       "      <td>71, rue du Château des Rentiers</td>\n",
       "      <td>75013.0</td>\n",
       "      <td>Paris</td>\n",
       "      <td>01.42.16.76.76</td>\n",
       "      <td>Hommes et femmes isolés de 25 à 65 ans.</td>\n",
       "      <td>48.826222,2.369066</td>\n",
       "    </tr>\n",
       "    <tr>\n",
       "      <td>5</td>\n",
       "      <td>CHU</td>\n",
       "      <td>Crimée</td>\n",
       "      <td>166, rue de Crimée</td>\n",
       "      <td>75019.0</td>\n",
       "      <td>Paris</td>\n",
       "      <td>01.53.26.53.26</td>\n",
       "      <td>Familles.</td>\n",
       "      <td>48.889674,2.378039</td>\n",
       "    </tr>\n",
       "    <tr>\n",
       "      <td>6</td>\n",
       "      <td>CHRS-CHU</td>\n",
       "      <td>Stendhal</td>\n",
       "      <td>5 quater, rue Stendhal</td>\n",
       "      <td>75020.0</td>\n",
       "      <td>Paris</td>\n",
       "      <td>01.46.62.57.57</td>\n",
       "      <td>Hommes et  femmes de 18 à 27 ans. Couples.</td>\n",
       "      <td>48.861052,2.402218</td>\n",
       "    </tr>\n",
       "    <tr>\n",
       "      <td>7</td>\n",
       "      <td>CHRS</td>\n",
       "      <td>Charonne</td>\n",
       "      <td>43-45, boulevard de Charonne</td>\n",
       "      <td>75011.0</td>\n",
       "      <td>Paris</td>\n",
       "      <td>01.55.25.57.57</td>\n",
       "      <td>Familles monoparentales.</td>\n",
       "      <td>48.852109,2.397565</td>\n",
       "    </tr>\n",
       "  </tbody>\n",
       "</table>\n",
       "</div>"
      ],
      "text/plain": [
       "       type                    nom                                adresse  \\\n",
       "0       CHU          Les Baudemons                  30, rue des Baudemons   \n",
       "1      CHRS  Poterne des Peupliers  8-14, rue de la Poterne des Peupliers   \n",
       "2       CHU            Baudricourt                    15, rue Baudricourt   \n",
       "3      CHRS         Pauline Roland                     35-37, rue Fessart   \n",
       "4      CHRS   Relais des carrières        71, rue du Château des Rentiers   \n",
       "5       CHU                 Crimée                     166, rue de Crimée   \n",
       "6  CHRS-CHU               Stendhal                 5 quater, rue Stendhal   \n",
       "7      CHRS               Charonne           43-45, boulevard de Charonne   \n",
       "\n",
       "   code_postal   ville       telephone  \\\n",
       "0      94320.0  Thiais  01.55.53.16.10   \n",
       "1      75013.0   Paris  01.45.81.90.00   \n",
       "2      75013.0   Paris  01.45.83.32.60   \n",
       "3      75019.0   Paris  01.42.03.26.28   \n",
       "4      75013.0   Paris  01.42.16.76.76   \n",
       "5      75019.0   Paris  01.53.26.53.26   \n",
       "6      75020.0   Paris  01.46.62.57.57   \n",
       "7      75011.0   Paris  01.55.25.57.57   \n",
       "\n",
       "                                         precisions                 geo  \n",
       "0       Hommes et femmes  isolés de plus de 50 ans.  48.769465,2.394079  \n",
       "1  Hommes et femmes isolés de 25 à 65 ans. Couples.  48.819423,2.353209  \n",
       "2           Hommes et femmes isolés de 25 à 65 ans.  48.828012,2.364797  \n",
       "3             Femmes seules ou femmes avec enfants.  48.876763,2.384943  \n",
       "4           Hommes et femmes isolés de 25 à 65 ans.  48.826222,2.369066  \n",
       "5                                         Familles.  48.889674,2.378039  \n",
       "6        Hommes et  femmes de 18 à 27 ans. Couples.  48.861052,2.402218  \n",
       "7                          Familles monoparentales.  48.852109,2.397565  "
      ]
     },
     "execution_count": 13,
     "metadata": {},
     "output_type": "execute_result"
    }
   ],
   "source": [
    "df"
   ]
  },
  {
   "cell_type": "markdown",
   "metadata": {},
   "source": [
    "## Afficher une carte avec les centres d'hébergements d'Ile-de-France"
   ]
  },
  {
   "cell_type": "code",
   "execution_count": 22,
   "metadata": {},
   "outputs": [],
   "source": [
    "df.loc[:, \"Lat\"] = df.geo.apply(lambda x : x.split(\",\")[0])\n",
    "df.loc[:, \"Long\"] = df.geo.apply(lambda x : x.split(\",\")[1])"
   ]
  },
  {
   "cell_type": "code",
   "execution_count": 135,
   "metadata": {},
   "outputs": [],
   "source": [
    "carte = folium.Map(location = [48.856614, 2.3522219], zoom_start = 12)\n",
    "\n",
    "for i in range(len(df)) : \n",
    "    if df.loc[i, \"type\"] == 'CHU' : \n",
    "        color = \"red\"\n",
    "    else :\n",
    "        color = \"green\"\n",
    "    folium.Marker([df.loc[i,\"Lat\"], df.loc[i,\"Long\"]], popup = df.loc[i, \"type\"] + \" \" + df.loc[i, \"nom\"], \n",
    "                 icon=folium.Icon(color=color, icon=\"info-sign\")).add_to(carte)"
   ]
  },
  {
   "cell_type": "markdown",
   "metadata": {},
   "source": [
    "## Prendre une coordonnée GPS et trouver un itinéraire jusqu'à un centre d'hébergement"
   ]
  },
  {
   "cell_type": "code",
   "execution_count": 132,
   "metadata": {},
   "outputs": [
    {
     "data": {
      "text/plain": [
       "<folium.map.Marker at 0x7fe7e9ae2550>"
      ]
     },
     "execution_count": 132,
     "metadata": {},
     "output_type": "execute_result"
    }
   ],
   "source": [
    "my_coo = [48.8865792, 2.2478848] # coordonnée GPS de l'utilisateur récupérée par l'application\n",
    "folium.Marker(my_coo, popup = \"Je suis ici\").add_to(carte)"
   ]
  },
  {
   "cell_type": "code",
   "execution_count": 126,
   "metadata": {},
   "outputs": [],
   "source": [
    "# fonction pour calculer le plus court chemin entre la position de l'utilisateur et tous les centres\n",
    "def calcul_plus_court_chemin(coord, list_coord_test) : \n",
    "    list_distance = []\n",
    "    for coord_test in list_coord_test : \n",
    "        list_distance.append(geopy.distance.distance(coord, coord_test).km)\n",
    "    return np.argmin(list_distance), np.min(list_distance)"
   ]
  },
  {
   "cell_type": "code",
   "execution_count": null,
   "metadata": {},
   "outputs": [],
   "source": []
  }
 ],
 "metadata": {
  "kernelspec": {
   "display_name": "Python 3",
   "language": "python",
   "name": "python3"
  },
  "language_info": {
   "codemirror_mode": {
    "name": "ipython",
    "version": 3
   },
   "file_extension": ".py",
   "mimetype": "text/x-python",
   "name": "python",
   "nbconvert_exporter": "python",
   "pygments_lexer": "ipython3",
   "version": "3.7.4"
  }
 },
 "nbformat": 4,
 "nbformat_minor": 2
}
